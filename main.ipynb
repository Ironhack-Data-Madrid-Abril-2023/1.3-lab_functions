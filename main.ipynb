{
 "cells": [
  {
   "cell_type": "markdown",
   "metadata": {
    "toc": true
   },
   "source": [
    "<h1>Table of Contents<span class=\"tocSkip\"></span></h1>\n",
    "<div class=\"toc\"><ul class=\"toc-item\"><li><span><a href=\"#Functions\" data-toc-modified-id=\"Functions-1\"><span class=\"toc-item-num\">1&nbsp;&nbsp;</span>Functions</a></span><ul class=\"toc-item\"><li><span><a href=\"#1.-Write-a-function-that-returns-the-greater-of-two-numbers\" data-toc-modified-id=\"1.-Write-a-function-that-returns-the-greater-of-two-numbers-1.1\"><span class=\"toc-item-num\">1.1&nbsp;&nbsp;</span>1. Write a function that returns the greater of two numbers</a></span></li><li><span><a href=\"#2.-Now-write-a-function-that-returns-the-largest-element-on-a-list\" data-toc-modified-id=\"2.-Now-write-a-function-that-returns-the-largest-element-on-a-list-1.2\"><span class=\"toc-item-num\">1.2&nbsp;&nbsp;</span>2. Now write a function that returns the largest element on a list</a></span></li><li><span><a href=\"#3.-Write-a-function-that-sums-all-the-elements-on-a-list\" data-toc-modified-id=\"3.-Write-a-function-that-sums-all-the-elements-on-a-list-1.3\"><span class=\"toc-item-num\">1.3&nbsp;&nbsp;</span>3. Write a function that sums all the elements on a list</a></span></li><li><span><a href=\"#4.-Write-another-function-that-multiplies-all-the-elements-on-a-list\" data-toc-modified-id=\"4.-Write-another-function-that-multiplies-all-the-elements-on-a-list-1.4\"><span class=\"toc-item-num\">1.4&nbsp;&nbsp;</span>4. Write another function that multiplies all the elements on a list</a></span></li><li><span><a href=\"#5.-Now-combine-those-two-ideas-and-write-a-function-that-receives-a-list-and-either-&quot;+&quot;-or-&quot;*&quot;-and-outputs-acordingly\" data-toc-modified-id=\"5.-Now-combine-those-two-ideas-and-write-a-function-that-receives-a-list-and-either-&quot;+&quot;-or-&quot;*&quot;-and-outputs-acordingly-1.5\"><span class=\"toc-item-num\">1.5&nbsp;&nbsp;</span>5. Now combine those two ideas and write a function that receives a list and either \"+\" or \"*\" and outputs acordingly</a></span></li><li><span><a href=\"#6.-Write-a-function-that-returns-the-factorial-of-a-number.\" data-toc-modified-id=\"6.-Write-a-function-that-returns-the-factorial-of-a-number.-1.6\"><span class=\"toc-item-num\">1.6&nbsp;&nbsp;</span>6. Write a function that returns the factorial of a number.</a></span></li><li><span><a href=\"#7.-Write-a-function-that-takes-a-list-and-returns-a-list-of-the-unique-values.\" data-toc-modified-id=\"7.-Write-a-function-that-takes-a-list-and-returns-a-list-of-the-unique-values.-1.7\"><span class=\"toc-item-num\">1.7&nbsp;&nbsp;</span>7. Write a function that takes a list and returns a list of the unique values.</a></span></li><li><span><a href=\"#8.-Write-a-function-that-returns-the-mode-of-a-list,-i.e.:-the-element-that-appears-the-most-times.\" data-toc-modified-id=\"8.-Write-a-function-that-returns-the-mode-of-a-list,-i.e.:-the-element-that-appears-the-most-times.-1.8\"><span class=\"toc-item-num\">1.8&nbsp;&nbsp;</span>8. Write a function that returns the mode of a list, i.e.: the element that appears the most times.</a></span></li><li><span><a href=\"#9.-Write-a-function-that-calculates-the-standard-deviation-of-a-list.\" data-toc-modified-id=\"9.-Write-a-function-that-calculates-the-standard-deviation-of-a-list.-1.9\"><span class=\"toc-item-num\">1.9&nbsp;&nbsp;</span>9. Write a function that calculates the standard deviation of a list.</a></span></li><li><span><a href=\"#10.-Write-a-function-to-check-if-a-string-is-a-pangram,-i.e.:-if-it-contains-all-the-letters-of-the-alphabet-at-least-once.-Mind-that-the-strings-may-contain-characters-that-are-not-letters.\" data-toc-modified-id=\"10.-Write-a-function-to-check-if-a-string-is-a-pangram,-i.e.:-if-it-contains-all-the-letters-of-the-alphabet-at-least-once.-Mind-that-the-strings-may-contain-characters-that-are-not-letters.-1.10\"><span class=\"toc-item-num\">1.10&nbsp;&nbsp;</span>10. Write a function to check if a string is a pangram, i.e.: if it contains all the letters of the alphabet at least once. Mind that the strings may contain characters that are not letters.</a></span></li><li><span><a href=\"#11.-Write-a-function-that-receives-a-string-of-comma-separated-words-and-returns-a-string-of-comma-separated-words-sorted-alphabetically.\" data-toc-modified-id=\"11.-Write-a-function-that-receives-a-string-of-comma-separated-words-and-returns-a-string-of-comma-separated-words-sorted-alphabetically.-1.11\"><span class=\"toc-item-num\">1.11&nbsp;&nbsp;</span>11. Write a function that receives a string of comma separated words and returns a string of comma separated words sorted alphabetically.</a></span></li><li><span><a href=\"#12.-Write-a-function-to-check-if-a-given-password-is-strong-(at-least-8-characters,-at-least-one-lower-case,-at-least-one-upper-case,-at-least-one-number-and-at-least-one-special-character).-It-should-output-True-if-strong-and-False-if-not.\" data-toc-modified-id=\"12.-Write-a-function-to-check-if-a-given-password-is-strong-(at-least-8-characters,-at-least-one-lower-case,-at-least-one-upper-case,-at-least-one-number-and-at-least-one-special-character).-It-should-output-True-if-strong-and-False-if-not.-1.12\"><span class=\"toc-item-num\">1.12&nbsp;&nbsp;</span>12. Write a function to check if a given password is strong (at least 8 characters, at least one lower case, at least one upper case, at least one number and at least one special character). It should output True if strong and False if not.</a></span></li></ul></li></ul></div>"
   ]
  },
  {
   "cell_type": "markdown",
   "metadata": {},
   "source": [
    "# Functions"
   ]
  },
  {
   "cell_type": "markdown",
   "metadata": {},
   "source": [
    "On this lab we will put to practice some of the concepts we have learned on this past few days.\n",
    "\n",
    "`NOTE: On this lab you should try to write all the functions yourself using only the most basic of python syntax and without functions such as len, count, sum, max, min, in, etc. Give it a try. 🧑🏻‍💻👩🏻‍💻`\n",
    "\n",
    "The cell after each exercise contains a few tests to check if your function works as expected."
   ]
  },
  {
   "cell_type": "code",
   "execution_count": 2,
   "metadata": {},
   "outputs": [],
   "source": [
    "#Run this cell\n",
    "\n",
    "from mod.testing import *\n",
    "import unittest"
   ]
  },
  {
   "cell_type": "code",
   "execution_count": 83,
   "metadata": {},
   "outputs": [],
   "source": [
    "#Para poder usar len.\n",
    "def len_customize(x):\n",
    "    res=0\n",
    "    while x:\n",
    "        res+=1\n",
    "        x.pop()\n",
    "    return res"
   ]
  },
  {
   "cell_type": "markdown",
   "metadata": {},
   "source": [
    "## 1. Write a function that returns the greater of two numbers"
   ]
  },
  {
   "cell_type": "code",
   "execution_count": 5,
   "metadata": {},
   "outputs": [],
   "source": [
    "def greater(a,b):\n",
    "    if a > b:\n",
    "        return a\n",
    "    else:\n",
    "        return b"
   ]
  },
  {
   "cell_type": "code",
   "execution_count": 6,
   "metadata": {},
   "outputs": [
    {
     "name": "stderr",
     "output_type": "stream",
     "text": [
      "....................................................................................................\n",
      "----------------------------------------------------------------------\n",
      "Ran 100 tests in 0.095s\n",
      "\n",
      "OK\n"
     ]
    }
   ],
   "source": [
    "# This will test your function \n",
    "test_greater(greater)"
   ]
  },
  {
   "cell_type": "markdown",
   "metadata": {},
   "source": [
    "## 2. Now write a function that returns the largest element on a list"
   ]
  },
  {
   "cell_type": "code",
   "execution_count": 6,
   "metadata": {},
   "outputs": [],
   "source": [
    "def greatest(arr):\n",
    "    result = 0\n",
    "\n",
    "    for i in arr:\n",
    "        \n",
    "        if i >= result: result = i\n",
    "\n",
    "    return result"
   ]
  },
  {
   "cell_type": "code",
   "execution_count": 7,
   "metadata": {},
   "outputs": [
    {
     "name": "stderr",
     "output_type": "stream",
     "text": [
      "....................................................................................................\n",
      "----------------------------------------------------------------------\n",
      "Ran 100 tests in 0.039s\n",
      "\n",
      "OK\n"
     ]
    }
   ],
   "source": [
    "# This will test your function \n",
    "test_greatest(greatest)"
   ]
  },
  {
   "cell_type": "markdown",
   "metadata": {},
   "source": [
    "## 3. Write a function that sums all the elements on a list"
   ]
  },
  {
   "cell_type": "code",
   "execution_count": 13,
   "metadata": {},
   "outputs": [],
   "source": [
    "def sum_all(arr):\n",
    "    result = 0\n",
    "    for i in arr:\n",
    "        result+= i\n",
    "    return result\n",
    "\n",
    "#No se como recorrer todos los valores de arr sin usar 'in' (bucle for)"
   ]
  },
  {
   "cell_type": "code",
   "execution_count": 14,
   "metadata": {},
   "outputs": [
    {
     "data": {
      "text/plain": [
       "10"
      ]
     },
     "execution_count": 14,
     "metadata": {},
     "output_type": "execute_result"
    }
   ],
   "source": [
    "sum_all([1,2,3,4])"
   ]
  },
  {
   "cell_type": "code",
   "execution_count": 62,
   "metadata": {},
   "outputs": [
    {
     "name": "stderr",
     "output_type": "stream",
     "text": [
      "....................................................................................................\n",
      "----------------------------------------------------------------------\n",
      "Ran 100 tests in 0.204s\n",
      "\n",
      "OK\n"
     ]
    }
   ],
   "source": [
    "# This will test your function \n",
    "test_sum(sum_all)"
   ]
  },
  {
   "cell_type": "markdown",
   "metadata": {},
   "source": [
    "## 4. Write another function that multiplies all the elements on a list"
   ]
  },
  {
   "cell_type": "code",
   "execution_count": 78,
   "metadata": {},
   "outputs": [],
   "source": [
    "def mult_all(arr):\n",
    "    res = 1\n",
    "    for i in arr:\n",
    "        res = res * i\n",
    "    return res\n",
    "\n",
    "#No se como recorrer todos los valores de arr sin usar 'in' (bucle for)"
   ]
  },
  {
   "cell_type": "code",
   "execution_count": 75,
   "metadata": {},
   "outputs": [],
   "source": [
    "#resolucion del ejercicio sin usar for, usando dentro de la biblioteca numpy la funcion prod.\n",
    "import numpy as np\n",
    "def mult_all2(arr):\n",
    "    return np.prod(arr)"
   ]
  },
  {
   "cell_type": "code",
   "execution_count": 77,
   "metadata": {},
   "outputs": [
    {
     "data": {
      "text/plain": [
       "[2, 10]"
      ]
     },
     "execution_count": 77,
     "metadata": {},
     "output_type": "execute_result"
    }
   ],
   "source": [
    "#Prueba del funcionamiento de mult_all\n",
    "mult_all([2,10])"
   ]
  },
  {
   "cell_type": "code",
   "execution_count": 68,
   "metadata": {},
   "outputs": [
    {
     "name": "stderr",
     "output_type": "stream",
     "text": [
      "....................................................................................................\n",
      "----------------------------------------------------------------------\n",
      "Ran 100 tests in 0.200s\n",
      "\n",
      "OK\n"
     ]
    }
   ],
   "source": [
    "# This will test your function \n",
    "test_mult(mult_all)"
   ]
  },
  {
   "cell_type": "markdown",
   "metadata": {},
   "source": [
    "## 5. Now combine those two ideas and write a function that receives a list and either \"+\" or \"*\" and outputs acordingly"
   ]
  },
  {
   "cell_type": "code",
   "execution_count": 88,
   "metadata": {},
   "outputs": [],
   "source": [
    "def oper_all(arr, oper):\n",
    "    if oper == '+':\n",
    "        res = 0\n",
    "        for i in arr:\n",
    "            res+= i\n",
    "    elif oper == '*':\n",
    "        res = 1\n",
    "        for i in arr:\n",
    "            res = res * i\n",
    "    else:\n",
    "        pass\n",
    "    return res\n",
    "    \n"
   ]
  },
  {
   "cell_type": "code",
   "execution_count": 87,
   "metadata": {},
   "outputs": [
    {
     "data": {
      "text/plain": [
       "20"
      ]
     },
     "execution_count": 87,
     "metadata": {},
     "output_type": "execute_result"
    }
   ],
   "source": [
    "oper_all([2,10], '*')"
   ]
  },
  {
   "cell_type": "code",
   "execution_count": 85,
   "metadata": {},
   "outputs": [
    {
     "name": "stderr",
     "output_type": "stream",
     "text": [
      "....................................................................................................\n",
      "----------------------------------------------------------------------\n",
      "Ran 100 tests in 0.194s\n",
      "\n",
      "OK\n"
     ]
    }
   ],
   "source": [
    "# This will test your function \n",
    "test_operations(oper_all)"
   ]
  },
  {
   "cell_type": "markdown",
   "metadata": {},
   "source": [
    "## 6. Write a function that returns the factorial of a number."
   ]
  },
  {
   "cell_type": "code",
   "execution_count": 143,
   "metadata": {},
   "outputs": [],
   "source": [
    "def factorial(n):\n",
    "    fact=1\n",
    "    for i in range(1,n+1):\n",
    "        fact*=i\n",
    "    return fact"
   ]
  },
  {
   "cell_type": "code",
   "execution_count": 144,
   "metadata": {},
   "outputs": [
    {
     "data": {
      "text/plain": [
       "120"
      ]
     },
     "execution_count": 144,
     "metadata": {},
     "output_type": "execute_result"
    }
   ],
   "source": [
    "factorial(5)"
   ]
  },
  {
   "cell_type": "code",
   "execution_count": null,
   "metadata": {},
   "outputs": [],
   "source": [
    "# This will test your function \n",
    "test_factorial(factorial)"
   ]
  },
  {
   "cell_type": "markdown",
   "metadata": {},
   "source": [
    "## 7. Write a function that takes a list and returns a list of the unique values.\n",
    "\n",
    "`NOTE: You cannot use set. 🤔`"
   ]
  },
  {
   "cell_type": "code",
   "execution_count": 138,
   "metadata": {},
   "outputs": [],
   "source": [
    "def unique(number):\n",
    "    auto_set = []\n",
    "    for i in number:\n",
    "        if i not in auto_set:\n",
    "            auto_set.append(i)\n",
    "    return auto_set\n"
   ]
  },
  {
   "cell_type": "code",
   "execution_count": 139,
   "metadata": {},
   "outputs": [
    {
     "data": {
      "text/plain": [
       "[3, 1, 2]"
      ]
     },
     "execution_count": 139,
     "metadata": {},
     "output_type": "execute_result"
    }
   ],
   "source": [
    "unique([3,1,2,2,3,1])"
   ]
  },
  {
   "cell_type": "code",
   "execution_count": 104,
   "metadata": {},
   "outputs": [
    {
     "name": "stderr",
     "output_type": "stream",
     "text": [
      "....................................................................................................\n",
      "----------------------------------------------------------------------\n",
      "Ran 100 tests in 0.354s\n",
      "\n",
      "OK\n"
     ]
    }
   ],
   "source": [
    "# This will test your function \n",
    "test_unique(unique)"
   ]
  },
  {
   "cell_type": "markdown",
   "metadata": {},
   "source": [
    "## 8. Write a function that returns the mode of a list, i.e.: the element that appears the most times.\n",
    "`NOTE: You should not use count... 🧐`"
   ]
  },
  {
   "cell_type": "code",
   "execution_count": 140,
   "metadata": {},
   "outputs": [],
   "source": [
    "def mode_counter(arr):\n",
    "    frecuencia = {}\n",
    "    contador_max = 0\n",
    "    moda = 0\n",
    "\n",
    "    for i in arr:\n",
    "        if i in frecuencia:\n",
    "            frecuencia[i] += 1\n",
    "        else:\n",
    "            frecuencia[i] = 1\n",
    "    \n",
    "        if frecuencia[i] > contador_max:\n",
    "            contador_max = frecuencia[i]\n",
    "            moda = i\n",
    "\n",
    "    return moda\n"
   ]
  },
  {
   "cell_type": "code",
   "execution_count": 145,
   "metadata": {},
   "outputs": [
    {
     "data": {
      "text/plain": [
       "2"
      ]
     },
     "execution_count": 145,
     "metadata": {},
     "output_type": "execute_result"
    }
   ],
   "source": [
    "mode_counter([1,1,2,2,2,3,4])"
   ]
  },
  {
   "cell_type": "code",
   "execution_count": 142,
   "metadata": {},
   "outputs": [
    {
     "name": "stderr",
     "output_type": "stream",
     "text": [
      "....................................................................................................\n",
      "----------------------------------------------------------------------\n",
      "Ran 100 tests in 0.233s\n",
      "\n",
      "OK\n"
     ]
    }
   ],
   "source": [
    "# This will test your function \n",
    "test_mode(mode_counter)"
   ]
  },
  {
   "cell_type": "markdown",
   "metadata": {},
   "source": [
    "## 9. Write a function that calculates the standard deviation of a list.\n",
    "`NOTE: Do not use any libraries or already built functions. 😉`"
   ]
  },
  {
   "cell_type": "code",
   "execution_count": null,
   "metadata": {},
   "outputs": [],
   "source": [
    "# Funcion para calcular la media de una lista\n",
    "def calcular_media (arr):\n",
    "    suma_total = 0\n",
    "    poblacion = 0\n",
    "    for i in arr:\n",
    "        suma_total+= i\n",
    "        poblacion+=1\n",
    "    media = suma_total / poblacion\n",
    "    return media"
   ]
  },
  {
   "cell_type": "code",
   "execution_count": 177,
   "metadata": {},
   "outputs": [],
   "source": [
    "from statistics import stdev\n",
    "def st_dev(arr):\n",
    "\n",
    "# Para calcular la varianza, primero hay que calcular la media.\n",
    "    suma_total = 0\n",
    "    poblacion = 0\n",
    "    for i in arr:\n",
    "        suma_total+= i\n",
    "        poblacion+=1\n",
    "    media = suma_total / poblacion\n",
    "   \n",
    "# Encuentra la diferencia de cada punto de datos con respecto al valor medio. Restar a cada numero la media.\n",
    "    desviaciones_medias = [i - media for i in arr]\n",
    "\n",
    "# Eleva al cuadrado cada uno de estos valores.\n",
    "    desv_med_sqr = [i * i for i in desviaciones_medias]\n",
    "\n",
    "# Suma todos los valores elevados al cuadrado.\n",
    "    suma_desv_med_sqr = sum(desv_med_sqr)\n",
    "# Divide esta suma de cuadrados entre n – 1 (para una muestra) o N (para la población).\n",
    "    varianza = suma_desv_med_sqr / (poblacion - 1)\n",
    "\n",
    "# La desviación típica es la raíz cuadrada de la varianza\n",
    "    st_dev = varianza **0.5\n",
    "    \n",
    "    return st_dev"
   ]
  },
  {
   "cell_type": "code",
   "execution_count": 178,
   "metadata": {},
   "outputs": [
    {
     "data": {
      "text/plain": [
       "1.0"
      ]
     },
     "execution_count": 178,
     "metadata": {},
     "output_type": "execute_result"
    }
   ],
   "source": [
    "st_dev([1,2,3])"
   ]
  },
  {
   "cell_type": "code",
   "execution_count": 179,
   "metadata": {},
   "outputs": [
    {
     "name": "stderr",
     "output_type": "stream",
     "text": [
      "....................................................................................................\n",
      "----------------------------------------------------------------------\n",
      "Ran 100 tests in 0.223s\n",
      "\n",
      "OK\n"
     ]
    }
   ],
   "source": [
    "# This will test your function \n",
    "test_stdev(st_dev)"
   ]
  },
  {
   "cell_type": "markdown",
   "metadata": {},
   "source": [
    "## 10. Write a function to check if a string is a pangram, i.e.: if it contains all the letters of the alphabet at least once. Mind that the strings may contain characters that are not letters."
   ]
  },
  {
   "cell_type": "code",
   "execution_count": 182,
   "metadata": {},
   "outputs": [],
   "source": [
    "#No he tenido tiempo para revisarlo.\n",
    "import string\n",
    "\n",
    "def pangram(string):\n",
    "    alphabet = set(string.ascii_lowercase)\n",
    "    \n",
    "    lowercase_string = string.lower()\n",
    "    \n",
    "    letters = set(c for c in lowercase_string if c in alphabet)\n",
    "    \n",
    "    return letters == alphabet"
   ]
  },
  {
   "cell_type": "code",
   "execution_count": 183,
   "metadata": {},
   "outputs": [
    {
     "name": "stderr",
     "output_type": "stream",
     "text": [
      "EEEEEEEEEEEEEEEEEEEEEEEEEEEEEE\n",
      "======================================================================\n",
      "ERROR: runTest (mod.testing.test_pangram.<locals>.TestKnown)\n",
      "----------------------------------------------------------------------\n",
      "Traceback (most recent call last):\n",
      "  File \"c:\\Users\\carlo\\Labs IronHack\\1.3-lab_functions\\mod\\testing.py\", line 172, in runTest\n",
      "    self.assertEqual(fn(self.input), self.output, f\"Should be {self.output}\")\n",
      "  File \"C:\\Users\\carlo\\AppData\\Local\\Temp\\ipykernel_15824\\111742740.py\", line 5, in pangram\n",
      "    alphabet = set(string.ascii_lowercase)\n",
      "AttributeError: 'str' object has no attribute 'ascii_lowercase'\n",
      "\n",
      "======================================================================\n",
      "ERROR: runTest (mod.testing.test_pangram.<locals>.TestKnown)\n",
      "----------------------------------------------------------------------\n",
      "Traceback (most recent call last):\n",
      "  File \"c:\\Users\\carlo\\Labs IronHack\\1.3-lab_functions\\mod\\testing.py\", line 172, in runTest\n",
      "    self.assertEqual(fn(self.input), self.output, f\"Should be {self.output}\")\n",
      "  File \"C:\\Users\\carlo\\AppData\\Local\\Temp\\ipykernel_15824\\111742740.py\", line 5, in pangram\n",
      "    alphabet = set(string.ascii_lowercase)\n",
      "AttributeError: 'str' object has no attribute 'ascii_lowercase'\n",
      "\n",
      "======================================================================\n",
      "ERROR: runTest (mod.testing.test_pangram.<locals>.TestKnown)\n",
      "----------------------------------------------------------------------\n",
      "Traceback (most recent call last):\n",
      "  File \"c:\\Users\\carlo\\Labs IronHack\\1.3-lab_functions\\mod\\testing.py\", line 172, in runTest\n",
      "    self.assertEqual(fn(self.input), self.output, f\"Should be {self.output}\")\n",
      "  File \"C:\\Users\\carlo\\AppData\\Local\\Temp\\ipykernel_15824\\111742740.py\", line 5, in pangram\n",
      "    alphabet = set(string.ascii_lowercase)\n",
      "AttributeError: 'str' object has no attribute 'ascii_lowercase'\n",
      "\n",
      "======================================================================\n",
      "ERROR: runTest (mod.testing.test_pangram.<locals>.TestKnown)\n",
      "----------------------------------------------------------------------\n",
      "Traceback (most recent call last):\n",
      "  File \"c:\\Users\\carlo\\Labs IronHack\\1.3-lab_functions\\mod\\testing.py\", line 172, in runTest\n",
      "    self.assertEqual(fn(self.input), self.output, f\"Should be {self.output}\")\n",
      "  File \"C:\\Users\\carlo\\AppData\\Local\\Temp\\ipykernel_15824\\111742740.py\", line 5, in pangram\n",
      "    alphabet = set(string.ascii_lowercase)\n",
      "AttributeError: 'str' object has no attribute 'ascii_lowercase'\n",
      "\n",
      "======================================================================\n",
      "ERROR: runTest (mod.testing.test_pangram.<locals>.TestKnown)\n",
      "----------------------------------------------------------------------\n",
      "Traceback (most recent call last):\n",
      "  File \"c:\\Users\\carlo\\Labs IronHack\\1.3-lab_functions\\mod\\testing.py\", line 172, in runTest\n",
      "    self.assertEqual(fn(self.input), self.output, f\"Should be {self.output}\")\n",
      "  File \"C:\\Users\\carlo\\AppData\\Local\\Temp\\ipykernel_15824\\111742740.py\", line 5, in pangram\n",
      "    alphabet = set(string.ascii_lowercase)\n",
      "AttributeError: 'str' object has no attribute 'ascii_lowercase'\n",
      "\n",
      "======================================================================\n",
      "ERROR: runTest (mod.testing.test_pangram.<locals>.TestKnown)\n",
      "----------------------------------------------------------------------\n",
      "Traceback (most recent call last):\n",
      "  File \"c:\\Users\\carlo\\Labs IronHack\\1.3-lab_functions\\mod\\testing.py\", line 172, in runTest\n",
      "    self.assertEqual(fn(self.input), self.output, f\"Should be {self.output}\")\n",
      "  File \"C:\\Users\\carlo\\AppData\\Local\\Temp\\ipykernel_15824\\111742740.py\", line 5, in pangram\n",
      "    alphabet = set(string.ascii_lowercase)\n",
      "AttributeError: 'str' object has no attribute 'ascii_lowercase'\n",
      "\n",
      "======================================================================\n",
      "ERROR: runTest (mod.testing.test_pangram.<locals>.TestKnown)\n",
      "----------------------------------------------------------------------\n",
      "Traceback (most recent call last):\n",
      "  File \"c:\\Users\\carlo\\Labs IronHack\\1.3-lab_functions\\mod\\testing.py\", line 172, in runTest\n",
      "    self.assertEqual(fn(self.input), self.output, f\"Should be {self.output}\")\n",
      "  File \"C:\\Users\\carlo\\AppData\\Local\\Temp\\ipykernel_15824\\111742740.py\", line 5, in pangram\n",
      "    alphabet = set(string.ascii_lowercase)\n",
      "AttributeError: 'str' object has no attribute 'ascii_lowercase'\n",
      "\n",
      "======================================================================\n",
      "ERROR: runTest (mod.testing.test_pangram.<locals>.TestKnown)\n",
      "----------------------------------------------------------------------\n",
      "Traceback (most recent call last):\n",
      "  File \"c:\\Users\\carlo\\Labs IronHack\\1.3-lab_functions\\mod\\testing.py\", line 172, in runTest\n",
      "    self.assertEqual(fn(self.input), self.output, f\"Should be {self.output}\")\n",
      "  File \"C:\\Users\\carlo\\AppData\\Local\\Temp\\ipykernel_15824\\111742740.py\", line 5, in pangram\n",
      "    alphabet = set(string.ascii_lowercase)\n",
      "AttributeError: 'str' object has no attribute 'ascii_lowercase'\n",
      "\n",
      "======================================================================\n",
      "ERROR: runTest (mod.testing.test_pangram.<locals>.TestKnown)\n",
      "----------------------------------------------------------------------\n",
      "Traceback (most recent call last):\n",
      "  File \"c:\\Users\\carlo\\Labs IronHack\\1.3-lab_functions\\mod\\testing.py\", line 172, in runTest\n",
      "    self.assertEqual(fn(self.input), self.output, f\"Should be {self.output}\")\n",
      "  File \"C:\\Users\\carlo\\AppData\\Local\\Temp\\ipykernel_15824\\111742740.py\", line 5, in pangram\n",
      "    alphabet = set(string.ascii_lowercase)\n",
      "AttributeError: 'str' object has no attribute 'ascii_lowercase'\n",
      "\n",
      "======================================================================\n",
      "ERROR: runTest (mod.testing.test_pangram.<locals>.TestKnown)\n",
      "----------------------------------------------------------------------\n",
      "Traceback (most recent call last):\n",
      "  File \"c:\\Users\\carlo\\Labs IronHack\\1.3-lab_functions\\mod\\testing.py\", line 172, in runTest\n",
      "    self.assertEqual(fn(self.input), self.output, f\"Should be {self.output}\")\n",
      "  File \"C:\\Users\\carlo\\AppData\\Local\\Temp\\ipykernel_15824\\111742740.py\", line 5, in pangram\n",
      "    alphabet = set(string.ascii_lowercase)\n",
      "AttributeError: 'str' object has no attribute 'ascii_lowercase'\n",
      "\n",
      "======================================================================\n",
      "ERROR: runTest (mod.testing.test_pangram.<locals>.TestKnown)\n",
      "----------------------------------------------------------------------\n",
      "Traceback (most recent call last):\n",
      "  File \"c:\\Users\\carlo\\Labs IronHack\\1.3-lab_functions\\mod\\testing.py\", line 172, in runTest\n",
      "    self.assertEqual(fn(self.input), self.output, f\"Should be {self.output}\")\n",
      "  File \"C:\\Users\\carlo\\AppData\\Local\\Temp\\ipykernel_15824\\111742740.py\", line 5, in pangram\n",
      "    alphabet = set(string.ascii_lowercase)\n",
      "AttributeError: 'str' object has no attribute 'ascii_lowercase'\n",
      "\n",
      "======================================================================\n",
      "ERROR: runTest (mod.testing.test_pangram.<locals>.TestKnown)\n",
      "----------------------------------------------------------------------\n",
      "Traceback (most recent call last):\n",
      "  File \"c:\\Users\\carlo\\Labs IronHack\\1.3-lab_functions\\mod\\testing.py\", line 172, in runTest\n",
      "    self.assertEqual(fn(self.input), self.output, f\"Should be {self.output}\")\n",
      "  File \"C:\\Users\\carlo\\AppData\\Local\\Temp\\ipykernel_15824\\111742740.py\", line 5, in pangram\n",
      "    alphabet = set(string.ascii_lowercase)\n",
      "AttributeError: 'str' object has no attribute 'ascii_lowercase'\n",
      "\n",
      "======================================================================\n",
      "ERROR: runTest (mod.testing.test_pangram.<locals>.TestKnown)\n",
      "----------------------------------------------------------------------\n",
      "Traceback (most recent call last):\n",
      "  File \"c:\\Users\\carlo\\Labs IronHack\\1.3-lab_functions\\mod\\testing.py\", line 172, in runTest\n",
      "    self.assertEqual(fn(self.input), self.output, f\"Should be {self.output}\")\n",
      "  File \"C:\\Users\\carlo\\AppData\\Local\\Temp\\ipykernel_15824\\111742740.py\", line 5, in pangram\n",
      "    alphabet = set(string.ascii_lowercase)\n",
      "AttributeError: 'str' object has no attribute 'ascii_lowercase'\n",
      "\n",
      "======================================================================\n",
      "ERROR: runTest (mod.testing.test_pangram.<locals>.TestKnown)\n",
      "----------------------------------------------------------------------\n",
      "Traceback (most recent call last):\n",
      "  File \"c:\\Users\\carlo\\Labs IronHack\\1.3-lab_functions\\mod\\testing.py\", line 172, in runTest\n",
      "    self.assertEqual(fn(self.input), self.output, f\"Should be {self.output}\")\n",
      "  File \"C:\\Users\\carlo\\AppData\\Local\\Temp\\ipykernel_15824\\111742740.py\", line 5, in pangram\n",
      "    alphabet = set(string.ascii_lowercase)\n",
      "AttributeError: 'str' object has no attribute 'ascii_lowercase'\n",
      "\n",
      "======================================================================\n",
      "ERROR: runTest (mod.testing.test_pangram.<locals>.TestKnown)\n",
      "----------------------------------------------------------------------\n",
      "Traceback (most recent call last):\n",
      "  File \"c:\\Users\\carlo\\Labs IronHack\\1.3-lab_functions\\mod\\testing.py\", line 172, in runTest\n",
      "    self.assertEqual(fn(self.input), self.output, f\"Should be {self.output}\")\n",
      "  File \"C:\\Users\\carlo\\AppData\\Local\\Temp\\ipykernel_15824\\111742740.py\", line 5, in pangram\n",
      "    alphabet = set(string.ascii_lowercase)\n",
      "AttributeError: 'str' object has no attribute 'ascii_lowercase'\n",
      "\n",
      "======================================================================\n",
      "ERROR: runTest (mod.testing.test_pangram.<locals>.TestKnown)\n",
      "----------------------------------------------------------------------\n",
      "Traceback (most recent call last):\n",
      "  File \"c:\\Users\\carlo\\Labs IronHack\\1.3-lab_functions\\mod\\testing.py\", line 172, in runTest\n",
      "    self.assertEqual(fn(self.input), self.output, f\"Should be {self.output}\")\n",
      "  File \"C:\\Users\\carlo\\AppData\\Local\\Temp\\ipykernel_15824\\111742740.py\", line 5, in pangram\n",
      "    alphabet = set(string.ascii_lowercase)\n",
      "AttributeError: 'str' object has no attribute 'ascii_lowercase'\n",
      "\n",
      "======================================================================\n",
      "ERROR: runTest (mod.testing.test_pangram.<locals>.TestKnown)\n",
      "----------------------------------------------------------------------\n",
      "Traceback (most recent call last):\n",
      "  File \"c:\\Users\\carlo\\Labs IronHack\\1.3-lab_functions\\mod\\testing.py\", line 172, in runTest\n",
      "    self.assertEqual(fn(self.input), self.output, f\"Should be {self.output}\")\n",
      "  File \"C:\\Users\\carlo\\AppData\\Local\\Temp\\ipykernel_15824\\111742740.py\", line 5, in pangram\n",
      "    alphabet = set(string.ascii_lowercase)\n",
      "AttributeError: 'str' object has no attribute 'ascii_lowercase'\n",
      "\n",
      "======================================================================\n",
      "ERROR: runTest (mod.testing.test_pangram.<locals>.TestKnown)\n",
      "----------------------------------------------------------------------\n",
      "Traceback (most recent call last):\n",
      "  File \"c:\\Users\\carlo\\Labs IronHack\\1.3-lab_functions\\mod\\testing.py\", line 172, in runTest\n",
      "    self.assertEqual(fn(self.input), self.output, f\"Should be {self.output}\")\n",
      "  File \"C:\\Users\\carlo\\AppData\\Local\\Temp\\ipykernel_15824\\111742740.py\", line 5, in pangram\n",
      "    alphabet = set(string.ascii_lowercase)\n",
      "AttributeError: 'str' object has no attribute 'ascii_lowercase'\n",
      "\n",
      "======================================================================\n",
      "ERROR: runTest (mod.testing.test_pangram.<locals>.TestKnown)\n",
      "----------------------------------------------------------------------\n",
      "Traceback (most recent call last):\n",
      "  File \"c:\\Users\\carlo\\Labs IronHack\\1.3-lab_functions\\mod\\testing.py\", line 172, in runTest\n",
      "    self.assertEqual(fn(self.input), self.output, f\"Should be {self.output}\")\n",
      "  File \"C:\\Users\\carlo\\AppData\\Local\\Temp\\ipykernel_15824\\111742740.py\", line 5, in pangram\n",
      "    alphabet = set(string.ascii_lowercase)\n",
      "AttributeError: 'str' object has no attribute 'ascii_lowercase'\n",
      "\n",
      "======================================================================\n",
      "ERROR: runTest (mod.testing.test_pangram.<locals>.TestKnown)\n",
      "----------------------------------------------------------------------\n",
      "Traceback (most recent call last):\n",
      "  File \"c:\\Users\\carlo\\Labs IronHack\\1.3-lab_functions\\mod\\testing.py\", line 172, in runTest\n",
      "    self.assertEqual(fn(self.input), self.output, f\"Should be {self.output}\")\n",
      "  File \"C:\\Users\\carlo\\AppData\\Local\\Temp\\ipykernel_15824\\111742740.py\", line 5, in pangram\n",
      "    alphabet = set(string.ascii_lowercase)\n",
      "AttributeError: 'str' object has no attribute 'ascii_lowercase'\n",
      "\n",
      "======================================================================\n",
      "ERROR: runTest (mod.testing.test_pangram.<locals>.TestKnown)\n",
      "----------------------------------------------------------------------\n",
      "Traceback (most recent call last):\n",
      "  File \"c:\\Users\\carlo\\Labs IronHack\\1.3-lab_functions\\mod\\testing.py\", line 172, in runTest\n",
      "    self.assertEqual(fn(self.input), self.output, f\"Should be {self.output}\")\n",
      "  File \"C:\\Users\\carlo\\AppData\\Local\\Temp\\ipykernel_15824\\111742740.py\", line 5, in pangram\n",
      "    alphabet = set(string.ascii_lowercase)\n",
      "AttributeError: 'str' object has no attribute 'ascii_lowercase'\n",
      "\n",
      "======================================================================\n",
      "ERROR: runTest (mod.testing.test_pangram.<locals>.TestKnown)\n",
      "----------------------------------------------------------------------\n",
      "Traceback (most recent call last):\n",
      "  File \"c:\\Users\\carlo\\Labs IronHack\\1.3-lab_functions\\mod\\testing.py\", line 172, in runTest\n",
      "    self.assertEqual(fn(self.input), self.output, f\"Should be {self.output}\")\n",
      "  File \"C:\\Users\\carlo\\AppData\\Local\\Temp\\ipykernel_15824\\111742740.py\", line 5, in pangram\n",
      "    alphabet = set(string.ascii_lowercase)\n",
      "AttributeError: 'str' object has no attribute 'ascii_lowercase'\n",
      "\n",
      "======================================================================\n",
      "ERROR: runTest (mod.testing.test_pangram.<locals>.TestKnown)\n",
      "----------------------------------------------------------------------\n",
      "Traceback (most recent call last):\n",
      "  File \"c:\\Users\\carlo\\Labs IronHack\\1.3-lab_functions\\mod\\testing.py\", line 172, in runTest\n",
      "    self.assertEqual(fn(self.input), self.output, f\"Should be {self.output}\")\n",
      "  File \"C:\\Users\\carlo\\AppData\\Local\\Temp\\ipykernel_15824\\111742740.py\", line 5, in pangram\n",
      "    alphabet = set(string.ascii_lowercase)\n",
      "AttributeError: 'str' object has no attribute 'ascii_lowercase'\n",
      "\n",
      "======================================================================\n",
      "ERROR: runTest (mod.testing.test_pangram.<locals>.TestKnown)\n",
      "----------------------------------------------------------------------\n",
      "Traceback (most recent call last):\n",
      "  File \"c:\\Users\\carlo\\Labs IronHack\\1.3-lab_functions\\mod\\testing.py\", line 172, in runTest\n",
      "    self.assertEqual(fn(self.input), self.output, f\"Should be {self.output}\")\n",
      "  File \"C:\\Users\\carlo\\AppData\\Local\\Temp\\ipykernel_15824\\111742740.py\", line 5, in pangram\n",
      "    alphabet = set(string.ascii_lowercase)\n",
      "AttributeError: 'str' object has no attribute 'ascii_lowercase'\n",
      "\n",
      "======================================================================\n",
      "ERROR: runTest (mod.testing.test_pangram.<locals>.TestKnown)\n",
      "----------------------------------------------------------------------\n",
      "Traceback (most recent call last):\n",
      "  File \"c:\\Users\\carlo\\Labs IronHack\\1.3-lab_functions\\mod\\testing.py\", line 172, in runTest\n",
      "    self.assertEqual(fn(self.input), self.output, f\"Should be {self.output}\")\n",
      "  File \"C:\\Users\\carlo\\AppData\\Local\\Temp\\ipykernel_15824\\111742740.py\", line 5, in pangram\n",
      "    alphabet = set(string.ascii_lowercase)\n",
      "AttributeError: 'str' object has no attribute 'ascii_lowercase'\n",
      "\n",
      "======================================================================\n",
      "ERROR: runTest (mod.testing.test_pangram.<locals>.TestKnown)\n",
      "----------------------------------------------------------------------\n",
      "Traceback (most recent call last):\n",
      "  File \"c:\\Users\\carlo\\Labs IronHack\\1.3-lab_functions\\mod\\testing.py\", line 172, in runTest\n",
      "    self.assertEqual(fn(self.input), self.output, f\"Should be {self.output}\")\n",
      "  File \"C:\\Users\\carlo\\AppData\\Local\\Temp\\ipykernel_15824\\111742740.py\", line 5, in pangram\n",
      "    alphabet = set(string.ascii_lowercase)\n",
      "AttributeError: 'str' object has no attribute 'ascii_lowercase'\n",
      "\n",
      "======================================================================\n",
      "ERROR: runTest (mod.testing.test_pangram.<locals>.TestKnown)\n",
      "----------------------------------------------------------------------\n",
      "Traceback (most recent call last):\n",
      "  File \"c:\\Users\\carlo\\Labs IronHack\\1.3-lab_functions\\mod\\testing.py\", line 172, in runTest\n",
      "    self.assertEqual(fn(self.input), self.output, f\"Should be {self.output}\")\n",
      "  File \"C:\\Users\\carlo\\AppData\\Local\\Temp\\ipykernel_15824\\111742740.py\", line 5, in pangram\n",
      "    alphabet = set(string.ascii_lowercase)\n",
      "AttributeError: 'str' object has no attribute 'ascii_lowercase'\n",
      "\n",
      "======================================================================\n",
      "ERROR: runTest (mod.testing.test_pangram.<locals>.TestKnown)\n",
      "----------------------------------------------------------------------\n",
      "Traceback (most recent call last):\n",
      "  File \"c:\\Users\\carlo\\Labs IronHack\\1.3-lab_functions\\mod\\testing.py\", line 172, in runTest\n",
      "    self.assertEqual(fn(self.input), self.output, f\"Should be {self.output}\")\n",
      "  File \"C:\\Users\\carlo\\AppData\\Local\\Temp\\ipykernel_15824\\111742740.py\", line 5, in pangram\n",
      "    alphabet = set(string.ascii_lowercase)\n",
      "AttributeError: 'str' object has no attribute 'ascii_lowercase'\n",
      "\n",
      "======================================================================\n",
      "ERROR: runTest (mod.testing.test_pangram.<locals>.TestKnown)\n",
      "----------------------------------------------------------------------\n",
      "Traceback (most recent call last):\n",
      "  File \"c:\\Users\\carlo\\Labs IronHack\\1.3-lab_functions\\mod\\testing.py\", line 172, in runTest\n",
      "    self.assertEqual(fn(self.input), self.output, f\"Should be {self.output}\")\n",
      "  File \"C:\\Users\\carlo\\AppData\\Local\\Temp\\ipykernel_15824\\111742740.py\", line 5, in pangram\n",
      "    alphabet = set(string.ascii_lowercase)\n",
      "AttributeError: 'str' object has no attribute 'ascii_lowercase'\n",
      "\n",
      "======================================================================\n",
      "ERROR: runTest (mod.testing.test_pangram.<locals>.TestKnown)\n",
      "----------------------------------------------------------------------\n",
      "Traceback (most recent call last):\n",
      "  File \"c:\\Users\\carlo\\Labs IronHack\\1.3-lab_functions\\mod\\testing.py\", line 172, in runTest\n",
      "    self.assertEqual(fn(self.input), self.output, f\"Should be {self.output}\")\n",
      "  File \"C:\\Users\\carlo\\AppData\\Local\\Temp\\ipykernel_15824\\111742740.py\", line 5, in pangram\n",
      "    alphabet = set(string.ascii_lowercase)\n",
      "AttributeError: 'str' object has no attribute 'ascii_lowercase'\n",
      "\n",
      "----------------------------------------------------------------------\n",
      "Ran 30 tests in 0.084s\n",
      "\n",
      "FAILED (errors=30)\n"
     ]
    }
   ],
   "source": [
    "# This will test your function \n",
    "test_pangram(pangram)"
   ]
  },
  {
   "cell_type": "markdown",
   "metadata": {},
   "source": [
    "## 11. Write a function that receives a string of comma separated words and returns a string of comma separated words sorted alphabetically.\n",
    "\n",
    "`NOTE: You may use sorted but not split and definitely no join! 🤪`"
   ]
  },
  {
   "cell_type": "code",
   "execution_count": 180,
   "metadata": {},
   "outputs": [],
   "source": [
    "def sort_alpha(string):\n",
    "    # Nueva lista para crear las palabras\n",
    "    words = []\n",
    "    #Iterar por el string con un buvle for\n",
    "    word = \"\"\n",
    "    for char in string:\n",
    "        if char == \",\":\n",
    "            words.append(word)\n",
    "            word = \"\"\n",
    "        else:\n",
    "            word += char\n",
    "    words.append(word)\n",
    "    \n",
    "    words.sort()\n",
    "    \n",
    "    result = \"\"\n",
    "    for i in range(len(words)):\n",
    "        if i > 0:\n",
    "            result += \",\"\n",
    "        result += words[i]\n",
    "    \n",
    "    return result"
   ]
  },
  {
   "cell_type": "code",
   "execution_count": 181,
   "metadata": {},
   "outputs": [
    {
     "name": "stderr",
     "output_type": "stream",
     "text": [
      "....................................................................................................\n",
      "----------------------------------------------------------------------\n",
      "Ran 100 tests in 0.135s\n",
      "\n",
      "OK\n"
     ]
    }
   ],
   "source": [
    "# This will test your function \n",
    "test_alpha(sort_alpha)"
   ]
  },
  {
   "cell_type": "markdown",
   "metadata": {},
   "source": [
    "## 12. Write a function to check if a given password is strong (at least 8 characters, at least one lower case, at least one upper case, at least one number and at least one special character). It should output True if strong and False if not.\n",
    "`Valid special characters: # @ ! $ % & ( ) ^ * [ ] { }`"
   ]
  },
  {
   "cell_type": "code",
   "execution_count": 184,
   "metadata": {},
   "outputs": [
    {
     "ename": "IndentationError",
     "evalue": "expected an indented block (4058717723.py, line 19)",
     "output_type": "error",
     "traceback": [
      "\u001b[1;36m  File \u001b[1;32m\"C:\\Users\\carlo\\AppData\\Local\\Temp\\ipykernel_15824\\4058717723.py\"\u001b[1;36m, line \u001b[1;32m19\u001b[0m\n\u001b[1;33m    if not re.search(r'\\d', password):\u001b[0m\n\u001b[1;37m                                      ^\u001b[0m\n\u001b[1;31mIndentationError\u001b[0m\u001b[1;31m:\u001b[0m expected an indented block\n"
     ]
    }
   ],
   "source": [
    "#No he tenido tiempo para revisarlo, lo revisare con tiempo durante el fin de semana tranquilamente.\n",
    "\n",
    "import re\n",
    "\n",
    "def check_pass(password):\n",
    "    \n",
    "    if len(password) < 8:\n",
    "        return False\n",
    "    \n",
    "    if not re.search(r'[a-z]', password):\n",
    "        return False\n",
    "    \n",
    "    if not re.search(r'[A-Z]', password):\n",
    "        return False\n",
    "    \n",
    "    if not re.search(r'\\d', password):"
   ]
  },
  {
   "cell_type": "code",
   "execution_count": null,
   "metadata": {},
   "outputs": [],
   "source": [
    "# This will test your function \n",
    "test_pass(check_pass)"
   ]
  }
 ],
 "metadata": {
  "kernelspec": {
   "display_name": "Python 3 (ipykernel)",
   "language": "python",
   "name": "python3"
  },
  "language_info": {
   "codemirror_mode": {
    "name": "ipython",
    "version": 3
   },
   "file_extension": ".py",
   "mimetype": "text/x-python",
   "name": "python",
   "nbconvert_exporter": "python",
   "pygments_lexer": "ipython3",
   "version": "3.9.13"
  },
  "toc": {
   "base_numbering": 1,
   "nav_menu": {},
   "number_sections": true,
   "sideBar": true,
   "skip_h1_title": false,
   "title_cell": "Table of Contents",
   "title_sidebar": "Contents",
   "toc_cell": true,
   "toc_position": {},
   "toc_section_display": true,
   "toc_window_display": false
  },
  "varInspector": {
   "cols": {
    "lenName": 16,
    "lenType": 16,
    "lenVar": 40
   },
   "kernels_config": {
    "python": {
     "delete_cmd_postfix": "",
     "delete_cmd_prefix": "del ",
     "library": "var_list.py",
     "varRefreshCmd": "print(var_dic_list())"
    },
    "r": {
     "delete_cmd_postfix": ") ",
     "delete_cmd_prefix": "rm(",
     "library": "var_list.r",
     "varRefreshCmd": "cat(var_dic_list()) "
    }
   },
   "types_to_exclude": [
    "module",
    "function",
    "builtin_function_or_method",
    "instance",
    "_Feature"
   ],
   "window_display": false
  }
 },
 "nbformat": 4,
 "nbformat_minor": 4
}
